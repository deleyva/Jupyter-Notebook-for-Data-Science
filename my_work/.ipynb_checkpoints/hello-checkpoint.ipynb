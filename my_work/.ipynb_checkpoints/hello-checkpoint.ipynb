{
 "cells": [
  {
   "cell_type": "code",
   "execution_count": 4,
   "metadata": {},
   "outputs": [
    {
     "data": {
      "text/plain": [
       "array([0.62810141, 0.7597346 , 0.64881146, 0.474844  , 0.40280008,\n",
       "       0.56043963, 0.94693807, 0.41613426, 0.31360907, 0.68412284,\n",
       "       0.23888657, 0.22753902, 0.45565001, 0.89355412, 0.53852051,\n",
       "       0.28601222, 0.64269492, 0.53152093, 0.42846021, 0.99083789,\n",
       "       0.7645805 , 0.13308237, 0.13298496, 0.5393046 , 0.92535751,\n",
       "       0.98190517, 0.44820619, 0.26408482, 0.14368607, 0.06876573,\n",
       "       0.82171679, 0.48366782, 0.42005102, 0.51339327, 0.47341375,\n",
       "       0.24821872, 0.81110106, 0.15054995, 0.08719035, 0.98806849,\n",
       "       0.40626745, 0.18310656, 0.56851295, 0.6914523 , 0.69928253,\n",
       "       0.15520536, 0.5037345 , 0.03385249, 0.56552712, 0.47414884,\n",
       "       0.52084923, 0.93383916, 0.52438363, 0.80139585, 0.48110167,\n",
       "       0.13519683, 0.58118438, 0.23869434, 0.19877599, 0.5860968 ,\n",
       "       0.92131567, 0.18590696, 0.75021158, 0.47758795, 0.69724874,\n",
       "       0.31924201, 0.47303867, 0.89609227, 0.18098981, 0.54989052,\n",
       "       0.49616573, 0.22752709, 0.18001257, 0.67624628, 0.11051203,\n",
       "       0.41891877, 0.84730196, 0.09237944, 0.99391048, 0.66430523,\n",
       "       0.5582699 , 0.91038463, 0.69882306, 0.44103282, 0.7602626 ,\n",
       "       0.99108583, 0.44180932, 0.824882  , 0.14895539, 0.29637373,\n",
       "       0.13405041, 0.26958803, 0.87191795, 0.36419749, 0.19265178,\n",
       "       0.36490236, 0.22397209, 0.07645483, 0.07820059, 0.65804383])"
      ]
     },
     "execution_count": 4,
     "metadata": {},
     "output_type": "execute_result"
    }
   ],
   "source": [
    "%matplotlib inline\n",
    "import numpy as np\n",
    "import pandas as pd\n",
    "a = np.random.rand(100)\n",
    "a"
   ]
  },
  {
   "cell_type": "code",
   "execution_count": 5,
   "metadata": {},
   "outputs": [
    {
     "data": {
      "text/plain": [
       "0     0.628101\n",
       "1     0.759735\n",
       "2     0.648811\n",
       "3     0.474844\n",
       "4     0.402800\n",
       "5     0.560440\n",
       "6     0.946938\n",
       "7     0.416134\n",
       "8     0.313609\n",
       "9     0.684123\n",
       "10    0.238887\n",
       "11    0.227539\n",
       "12    0.455650\n",
       "13    0.893554\n",
       "14    0.538521\n",
       "15    0.286012\n",
       "16    0.642695\n",
       "17    0.531521\n",
       "18    0.428460\n",
       "19    0.990838\n",
       "20    0.764581\n",
       "21    0.133082\n",
       "22    0.132985\n",
       "23    0.539305\n",
       "24    0.925358\n",
       "25    0.981905\n",
       "26    0.448206\n",
       "27    0.264085\n",
       "28    0.143686\n",
       "29    0.068766\n",
       "        ...   \n",
       "70    0.496166\n",
       "71    0.227527\n",
       "72    0.180013\n",
       "73    0.676246\n",
       "74    0.110512\n",
       "75    0.418919\n",
       "76    0.847302\n",
       "77    0.092379\n",
       "78    0.993910\n",
       "79    0.664305\n",
       "80    0.558270\n",
       "81    0.910385\n",
       "82    0.698823\n",
       "83    0.441033\n",
       "84    0.760263\n",
       "85    0.991086\n",
       "86    0.441809\n",
       "87    0.824882\n",
       "88    0.148955\n",
       "89    0.296374\n",
       "90    0.134050\n",
       "91    0.269588\n",
       "92    0.871918\n",
       "93    0.364197\n",
       "94    0.192652\n",
       "95    0.364902\n",
       "96    0.223972\n",
       "97    0.076455\n",
       "98    0.078201\n",
       "99    0.658044\n",
       "Length: 100, dtype: float64"
      ]
     },
     "execution_count": 5,
     "metadata": {},
     "output_type": "execute_result"
    }
   ],
   "source": [
    "s = pd.Series(a)\n",
    "s"
   ]
  },
  {
   "cell_type": "code",
   "execution_count": 7,
   "metadata": {},
   "outputs": [
    {
     "data": {
      "text/plain": [
       "<matplotlib.axes._subplots.AxesSubplot at 0x11d42de48>"
      ]
     },
     "execution_count": 7,
     "metadata": {},
     "output_type": "execute_result"
    }
   ],
   "source": [
    "s.plot()"
   ]
  },
  {
   "cell_type": "code",
   "execution_count": 8,
   "metadata": {},
   "outputs": [
    {
     "ename": "AttributeError",
     "evalue": "'Series' object has no attribute 'show'",
     "output_type": "error",
     "traceback": [
      "\u001b[0;31m---------------------------------------------------------------------------\u001b[0m",
      "\u001b[0;31mAttributeError\u001b[0m                            Traceback (most recent call last)",
      "\u001b[0;32m<ipython-input-8-daffe8404596>\u001b[0m in \u001b[0;36m<module>\u001b[0;34m()\u001b[0m\n\u001b[0;32m----> 1\u001b[0;31m \u001b[0ms\u001b[0m\u001b[0;34m.\u001b[0m\u001b[0mshow\u001b[0m\u001b[0;34m(\u001b[0m\u001b[0;34m)\u001b[0m\u001b[0;34m\u001b[0m\u001b[0m\n\u001b[0m",
      "\u001b[0;32m/anaconda3/lib/python3.6/site-packages/pandas/core/generic.py\u001b[0m in \u001b[0;36m__getattr__\u001b[0;34m(self, name)\u001b[0m\n\u001b[1;32m   3612\u001b[0m             \u001b[0;32mif\u001b[0m \u001b[0mname\u001b[0m \u001b[0;32min\u001b[0m \u001b[0mself\u001b[0m\u001b[0;34m.\u001b[0m\u001b[0m_info_axis\u001b[0m\u001b[0;34m:\u001b[0m\u001b[0;34m\u001b[0m\u001b[0m\n\u001b[1;32m   3613\u001b[0m                 \u001b[0;32mreturn\u001b[0m \u001b[0mself\u001b[0m\u001b[0;34m[\u001b[0m\u001b[0mname\u001b[0m\u001b[0;34m]\u001b[0m\u001b[0;34m\u001b[0m\u001b[0m\n\u001b[0;32m-> 3614\u001b[0;31m             \u001b[0;32mreturn\u001b[0m \u001b[0mobject\u001b[0m\u001b[0;34m.\u001b[0m\u001b[0m__getattribute__\u001b[0m\u001b[0;34m(\u001b[0m\u001b[0mself\u001b[0m\u001b[0;34m,\u001b[0m \u001b[0mname\u001b[0m\u001b[0;34m)\u001b[0m\u001b[0;34m\u001b[0m\u001b[0m\n\u001b[0m\u001b[1;32m   3615\u001b[0m \u001b[0;34m\u001b[0m\u001b[0m\n\u001b[1;32m   3616\u001b[0m     \u001b[0;32mdef\u001b[0m \u001b[0m__setattr__\u001b[0m\u001b[0;34m(\u001b[0m\u001b[0mself\u001b[0m\u001b[0;34m,\u001b[0m \u001b[0mname\u001b[0m\u001b[0;34m,\u001b[0m \u001b[0mvalue\u001b[0m\u001b[0;34m)\u001b[0m\u001b[0;34m:\u001b[0m\u001b[0;34m\u001b[0m\u001b[0m\n",
      "\u001b[0;31mAttributeError\u001b[0m: 'Series' object has no attribute 'show'"
     ]
    }
   ],
   "source": [
    "s.show()"
   ]
  },
  {
   "cell_type": "code",
   "execution_count": null,
   "metadata": {},
   "outputs": [],
   "source": []
  }
 ],
 "metadata": {
  "kernelspec": {
   "display_name": "Python 3",
   "language": "python",
   "name": "python3"
  },
  "language_info": {
   "codemirror_mode": {
    "name": "ipython",
    "version": 3
   },
   "file_extension": ".py",
   "mimetype": "text/x-python",
   "name": "python",
   "nbconvert_exporter": "python",
   "pygments_lexer": "ipython3",
   "version": "3.6.4"
  }
 },
 "nbformat": 4,
 "nbformat_minor": 2
}
